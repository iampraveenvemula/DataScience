{
 "cells": [
  {
   "cell_type": "code",
   "execution_count": 3,
   "metadata": {},
   "outputs": [
    {
     "name": "stdout",
     "output_type": "stream",
     "text": [
      "Empty DataFrame\n",
      "Columns: []\n",
      "Index: []\n"
     ]
    }
   ],
   "source": [
    "import pandas as p\n",
    "df = p.DataFrame() \n",
    "print(df)"
   ]
  },
  {
   "cell_type": "code",
   "execution_count": 7,
   "metadata": {},
   "outputs": [
    {
     "name": "stdout",
     "output_type": "stream",
     "text": [
      "    0\n",
      "0  10\n",
      "1  20\n",
      "2  11\n",
      "3   4\n",
      "4  33\n",
      "5  22\n",
      "<class 'pandas.core.frame.DataFrame'>\n"
     ]
    }
   ],
   "source": [
    "data = [10,20,11,4,33,22]\n",
    "df = p.DataFrame(data)\n",
    "print(df)\n",
    "print(type(df))"
   ]
  },
  {
   "cell_type": "code",
   "execution_count": 16,
   "metadata": {},
   "outputs": [
    {
     "name": "stdout",
     "output_type": "stream",
     "text": [
      "        0   1\n",
      "0    Alex  20\n",
      "1  Mickey  11\n",
      "2   Jacky   3\n",
      "\n",
      "Now, Printing with Column Names....\n",
      "     Name  Age\n",
      "0    Alex   20\n",
      "1  Mickey   11\n",
      "2   Jacky    3\n"
     ]
    }
   ],
   "source": [
    "data2 = [[\"Alex\",20], [\"Mickey\",11], [\"Jacky\",3]]\n",
    "df = p.DataFrame(data2)\n",
    "print(df)\n",
    "\n",
    "print(\"\\nNow, Printing with Column Names....\")\n",
    "df2 = p.DataFrame(data2, columns=[\"Name\", \"Age\"])\n",
    "print(df2)"
   ]
  },
  {
   "cell_type": "code",
   "execution_count": 20,
   "metadata": {},
   "outputs": [
    {
     "name": "stdout",
     "output_type": "stream",
     "text": [
      "     Name   Age\n",
      "0    Alex  20.0\n",
      "1  Mickey  11.0\n",
      "2   Jacky   3.0\n"
     ]
    }
   ],
   "source": [
    "data3 =  [[\"Alex\",20], [\"Mickey\",11], [\"Jacky\",3]]\n",
    "df3 = p.DataFrame(data2, columns=[\"Name\", \"Age\"], dtype=float)\n",
    "print(df3)"
   ]
  },
  {
   "cell_type": "code",
   "execution_count": 45,
   "metadata": {},
   "outputs": [
    {
     "name": "stdout",
     "output_type": "stream",
     "text": [
      "       Name  Age\n",
      "rank1   Tom   28\n",
      "rank2  Jack   34\n",
      "rank3  John   22\n",
      "rank4         41\n"
     ]
    }
   ],
   "source": [
    "data4 = {'Name':['Tom','Jack', 'John',''], 'Age':[28,34,22,41]}\n",
    "df4=p.DataFrame(data4, index=['rank1','rank2','rank3', 'rank4'], columns = [\"Name\", \"Age\"])\n",
    "print(df4)"
   ]
  },
  {
   "cell_type": "code",
   "execution_count": 47,
   "metadata": {},
   "outputs": [
    {
     "name": "stdout",
     "output_type": "stream",
     "text": [
      "   age animal priority  visits\n",
      "a  2.5    cat      yes       1\n",
      "b  3.0    cat      yes       3\n",
      "c  0.5  snake       no       2\n",
      "d  NaN    dog      yes       3\n"
     ]
    }
   ],
   "source": [
    "data5 = [{'age':2.5, 'animal':'cat', 'priority':'yes', 'visits':1}, \n",
    "         {'age':3, 'animal':'cat', 'priority':'yes', 'visits':3},\n",
    "         {'age':0.5, 'animal':'snake', 'priority':'no', 'visits':2}, \n",
    "         {'animal':'dog', 'priority':'yes', 'visits':3}]\n",
    "df5 = p.DataFrame(data5, index=['a','b','c','d'])\n",
    "print(df5)"
   ]
  },
  {
   "cell_type": "code",
   "execution_count": 51,
   "metadata": {},
   "outputs": [
    {
     "name": "stdout",
     "output_type": "stream",
     "text": [
      "   age animal\n",
      "a  2.5    cat\n",
      "b    3    cat\n",
      "c  0.5  snake\n",
      "d  NaN    dog\n"
     ]
    }
   ],
   "source": [
    "data6 = {\"age\":[2.5,3,0.5,\"NaN\"],\n",
    "        \"animal\":['cat','cat','snake','dog']}\n",
    "df6 = p.DataFrame(data6, index=['a','b','c','d'])\n",
    "print(df6)"
   ]
  },
  {
   "cell_type": "code",
   "execution_count": 65,
   "metadata": {},
   "outputs": [],
   "source": [
    "import os\n",
    "os.chdir(\"C:\\\\Users\\Praveen\\Desktop\\INSOFE\\Python\\PythonDatasets\")"
   ]
  },
  {
   "cell_type": "code",
   "execution_count": 68,
   "metadata": {},
   "outputs": [],
   "source": [
    "import pandas as pd"
   ]
  },
  {
   "cell_type": "code",
   "execution_count": 72,
   "metadata": {},
   "outputs": [
    {
     "data": {
      "text/html": [
       "<div>\n",
       "<style scoped>\n",
       "    .dataframe tbody tr th:only-of-type {\n",
       "        vertical-align: middle;\n",
       "    }\n",
       "\n",
       "    .dataframe tbody tr th {\n",
       "        vertical-align: top;\n",
       "    }\n",
       "\n",
       "    .dataframe thead th {\n",
       "        text-align: right;\n",
       "    }\n",
       "</style>\n",
       "<table border=\"1\" class=\"dataframe\">\n",
       "  <thead>\n",
       "    <tr style=\"text-align: right;\">\n",
       "      <th></th>\n",
       "      <th>match_id</th>\n",
       "      <th>season</th>\n",
       "      <th>city</th>\n",
       "      <th>date</th>\n",
       "      <th>team1_id</th>\n",
       "      <th>team2_id</th>\n",
       "      <th>toss_winner</th>\n",
       "      <th>toss_decision</th>\n",
       "      <th>result</th>\n",
       "      <th>dl_applied</th>\n",
       "      <th>winner</th>\n",
       "      <th>win_by_runs</th>\n",
       "      <th>win_by_wickets</th>\n",
       "      <th>player_of_match</th>\n",
       "      <th>player_of_match_id</th>\n",
       "      <th>venue</th>\n",
       "      <th>venue_id</th>\n",
       "      <th>umpire1</th>\n",
       "      <th>umpire2</th>\n",
       "    </tr>\n",
       "  </thead>\n",
       "  <tbody>\n",
       "    <tr>\n",
       "      <th>0</th>\n",
       "      <td>2017_1</td>\n",
       "      <td>2017</td>\n",
       "      <td>Hyderabad</td>\n",
       "      <td>05-04-2017</td>\n",
       "      <td>SRH</td>\n",
       "      <td>RCB</td>\n",
       "      <td>RCB</td>\n",
       "      <td>field</td>\n",
       "      <td>normal</td>\n",
       "      <td>0</td>\n",
       "      <td>SRH</td>\n",
       "      <td>35</td>\n",
       "      <td>0</td>\n",
       "      <td>Yuvraj Singh</td>\n",
       "      <td>88</td>\n",
       "      <td>Rajiv Gandhi International Stadium, Hyderabad</td>\n",
       "      <td>4</td>\n",
       "      <td>AY Dandekar</td>\n",
       "      <td>NJ Llong</td>\n",
       "    </tr>\n",
       "    <tr>\n",
       "      <th>1</th>\n",
       "      <td>2017_2</td>\n",
       "      <td>2017</td>\n",
       "      <td>Pune</td>\n",
       "      <td>06-04-2017</td>\n",
       "      <td>MI</td>\n",
       "      <td>RPS</td>\n",
       "      <td>RPS</td>\n",
       "      <td>field</td>\n",
       "      <td>normal</td>\n",
       "      <td>0</td>\n",
       "      <td>RPS</td>\n",
       "      <td>0</td>\n",
       "      <td>7</td>\n",
       "      <td>Steven Smith</td>\n",
       "      <td>321</td>\n",
       "      <td>Maharashtra Cricket Association Stadium</td>\n",
       "      <td>32</td>\n",
       "      <td>A Nand Kishore</td>\n",
       "      <td>S Ravi</td>\n",
       "    </tr>\n",
       "    <tr>\n",
       "      <th>2</th>\n",
       "      <td>2017_3</td>\n",
       "      <td>2017</td>\n",
       "      <td>Rajkot</td>\n",
       "      <td>07-04-2017</td>\n",
       "      <td>GL</td>\n",
       "      <td>KKR</td>\n",
       "      <td>KKR</td>\n",
       "      <td>field</td>\n",
       "      <td>normal</td>\n",
       "      <td>0</td>\n",
       "      <td>KKR</td>\n",
       "      <td>0</td>\n",
       "      <td>10</td>\n",
       "      <td>Chris Lynn</td>\n",
       "      <td>343</td>\n",
       "      <td>Saurashtra Cricket Association Stadium</td>\n",
       "      <td>33</td>\n",
       "      <td>Nitin Menon</td>\n",
       "      <td>CK Nandan</td>\n",
       "    </tr>\n",
       "    <tr>\n",
       "      <th>3</th>\n",
       "      <td>2017_4</td>\n",
       "      <td>2017</td>\n",
       "      <td>Indore</td>\n",
       "      <td>08-04-2017</td>\n",
       "      <td>RPS</td>\n",
       "      <td>KXI</td>\n",
       "      <td>KXI</td>\n",
       "      <td>field</td>\n",
       "      <td>normal</td>\n",
       "      <td>0</td>\n",
       "      <td>KXI</td>\n",
       "      <td>0</td>\n",
       "      <td>6</td>\n",
       "      <td>Glenn Maxwell</td>\n",
       "      <td>429</td>\n",
       "      <td>Holkar Stadium Cricket Stadium, Indore, Madhya...</td>\n",
       "      <td>8</td>\n",
       "      <td>AK Chaudhary</td>\n",
       "      <td>C Shamshuddin</td>\n",
       "    </tr>\n",
       "    <tr>\n",
       "      <th>4</th>\n",
       "      <td>2017_5</td>\n",
       "      <td>2017</td>\n",
       "      <td>Bangalore</td>\n",
       "      <td>08-04-2017</td>\n",
       "      <td>RCB</td>\n",
       "      <td>DD</td>\n",
       "      <td>RCB</td>\n",
       "      <td>bat</td>\n",
       "      <td>normal</td>\n",
       "      <td>0</td>\n",
       "      <td>RCB</td>\n",
       "      <td>15</td>\n",
       "      <td>0</td>\n",
       "      <td>Kedar Jadhav</td>\n",
       "      <td>249</td>\n",
       "      <td>M.Chinnaswamy Stadium Bengaluru, Karnataka</td>\n",
       "      <td>7</td>\n",
       "      <td>NaN</td>\n",
       "      <td>NaN</td>\n",
       "    </tr>\n",
       "  </tbody>\n",
       "</table>\n",
       "</div>"
      ],
      "text/plain": [
       "  match_id  season       city        date team1_id team2_id toss_winner  \\\n",
       "0   2017_1    2017  Hyderabad  05-04-2017      SRH      RCB         RCB   \n",
       "1   2017_2    2017       Pune  06-04-2017       MI      RPS         RPS   \n",
       "2   2017_3    2017     Rajkot  07-04-2017       GL      KKR         KKR   \n",
       "3   2017_4    2017     Indore  08-04-2017      RPS      KXI         KXI   \n",
       "4   2017_5    2017  Bangalore  08-04-2017      RCB       DD         RCB   \n",
       "\n",
       "  toss_decision  result  dl_applied winner  win_by_runs  win_by_wickets  \\\n",
       "0         field  normal           0    SRH           35               0   \n",
       "1         field  normal           0    RPS            0               7   \n",
       "2         field  normal           0    KKR            0              10   \n",
       "3         field  normal           0    KXI            0               6   \n",
       "4           bat  normal           0    RCB           15               0   \n",
       "\n",
       "  player_of_match  player_of_match_id  \\\n",
       "0    Yuvraj Singh                  88   \n",
       "1    Steven Smith                 321   \n",
       "2      Chris Lynn                 343   \n",
       "3   Glenn Maxwell                 429   \n",
       "4    Kedar Jadhav                 249   \n",
       "\n",
       "                                               venue  venue_id  \\\n",
       "0      Rajiv Gandhi International Stadium, Hyderabad         4   \n",
       "1            Maharashtra Cricket Association Stadium        32   \n",
       "2             Saurashtra Cricket Association Stadium        33   \n",
       "3  Holkar Stadium Cricket Stadium, Indore, Madhya...         8   \n",
       "4         M.Chinnaswamy Stadium Bengaluru, Karnataka         7   \n",
       "\n",
       "          umpire1        umpire2  \n",
       "0     AY Dandekar       NJ Llong  \n",
       "1  A Nand Kishore         S Ravi  \n",
       "2     Nitin Menon      CK Nandan  \n",
       "3    AK Chaudhary  C Shamshuddin  \n",
       "4             NaN            NaN  "
      ]
     },
     "execution_count": 72,
     "metadata": {},
     "output_type": "execute_result"
    }
   ],
   "source": [
    "ipl1 = pd.read_csv(\"matches2017.csv\")\n",
    "ipl1.head(5)\n"
   ]
  },
  {
   "cell_type": "code",
   "execution_count": 75,
   "metadata": {},
   "outputs": [
    {
     "name": "stdout",
     "output_type": "stream",
     "text": [
      "(59, 19)\n"
     ]
    }
   ],
   "source": [
    "print(ipl1.shape)"
   ]
  },
  {
   "cell_type": "code",
   "execution_count": 78,
   "metadata": {},
   "outputs": [],
   "source": [
    "ipl2 = pd.read_csv(\"matches2008-2016.csv\")"
   ]
  },
  {
   "cell_type": "code",
   "execution_count": 79,
   "metadata": {},
   "outputs": [],
   "source": [
    "ipl2_copy = ipl2.copy()"
   ]
  },
  {
   "cell_type": "code",
   "execution_count": 80,
   "metadata": {},
   "outputs": [],
   "source": [
    "ipl2_final = ipl2_copy.append(ipl1)"
   ]
  },
  {
   "cell_type": "code",
   "execution_count": 81,
   "metadata": {},
   "outputs": [
    {
     "data": {
      "text/plain": [
       "(636, 19)"
      ]
     },
     "execution_count": 81,
     "metadata": {},
     "output_type": "execute_result"
    }
   ],
   "source": [
    "ipl2_final.shape "
   ]
  },
  {
   "cell_type": "code",
   "execution_count": 82,
   "metadata": {},
   "outputs": [
    {
     "data": {
      "text/html": [
       "<div>\n",
       "<style scoped>\n",
       "    .dataframe tbody tr th:only-of-type {\n",
       "        vertical-align: middle;\n",
       "    }\n",
       "\n",
       "    .dataframe tbody tr th {\n",
       "        vertical-align: top;\n",
       "    }\n",
       "\n",
       "    .dataframe thead th {\n",
       "        text-align: right;\n",
       "    }\n",
       "</style>\n",
       "<table border=\"1\" class=\"dataframe\">\n",
       "  <thead>\n",
       "    <tr style=\"text-align: right;\">\n",
       "      <th></th>\n",
       "      <th>match_id</th>\n",
       "      <th>season</th>\n",
       "      <th>city</th>\n",
       "      <th>date</th>\n",
       "      <th>team1_id</th>\n",
       "      <th>team2_id</th>\n",
       "      <th>toss_winner</th>\n",
       "      <th>toss_decision</th>\n",
       "      <th>result</th>\n",
       "      <th>dl_applied</th>\n",
       "      <th>winner</th>\n",
       "      <th>win_by_runs</th>\n",
       "      <th>win_by_wickets</th>\n",
       "      <th>player_of_match</th>\n",
       "      <th>player_of_match_id</th>\n",
       "      <th>venue</th>\n",
       "      <th>venue_id</th>\n",
       "      <th>umpire1</th>\n",
       "      <th>umpire2</th>\n",
       "    </tr>\n",
       "  </thead>\n",
       "  <tbody>\n",
       "    <tr>\n",
       "      <th>54</th>\n",
       "      <td>2017_55</td>\n",
       "      <td>2017</td>\n",
       "      <td>Delhi</td>\n",
       "      <td>14-05-2017</td>\n",
       "      <td>RCB</td>\n",
       "      <td>DD</td>\n",
       "      <td>RCB</td>\n",
       "      <td>bat</td>\n",
       "      <td>normal</td>\n",
       "      <td>0</td>\n",
       "      <td>RCB</td>\n",
       "      <td>10</td>\n",
       "      <td>0</td>\n",
       "      <td>Harshal Patel</td>\n",
       "      <td>456.0</td>\n",
       "      <td>Feroz Shah Kotla Stadium, Delhi</td>\n",
       "      <td>2</td>\n",
       "      <td>CK Nandan</td>\n",
       "      <td>C Shamshuddin</td>\n",
       "    </tr>\n",
       "    <tr>\n",
       "      <th>55</th>\n",
       "      <td>2017_56</td>\n",
       "      <td>2017</td>\n",
       "      <td>Mumbai</td>\n",
       "      <td>16-05-2017</td>\n",
       "      <td>RPS</td>\n",
       "      <td>MI</td>\n",
       "      <td>MI</td>\n",
       "      <td>field</td>\n",
       "      <td>normal</td>\n",
       "      <td>0</td>\n",
       "      <td>RPS</td>\n",
       "      <td>20</td>\n",
       "      <td>0</td>\n",
       "      <td>Washington Sunder</td>\n",
       "      <td>631.0</td>\n",
       "      <td>Wankhede Stadium, Mumbai, Maharashtra</td>\n",
       "      <td>1</td>\n",
       "      <td>S Ravi</td>\n",
       "      <td>C Shamshuddin</td>\n",
       "    </tr>\n",
       "    <tr>\n",
       "      <th>56</th>\n",
       "      <td>2017_57</td>\n",
       "      <td>2017</td>\n",
       "      <td>Bangalore</td>\n",
       "      <td>17-05-2017</td>\n",
       "      <td>SRH</td>\n",
       "      <td>KKR</td>\n",
       "      <td>KKR</td>\n",
       "      <td>field</td>\n",
       "      <td>normal</td>\n",
       "      <td>1</td>\n",
       "      <td>KKR</td>\n",
       "      <td>0</td>\n",
       "      <td>7</td>\n",
       "      <td>Nathan Coulter-Nile</td>\n",
       "      <td>484.0</td>\n",
       "      <td>M.Chinnaswamy Stadium Bengaluru, Karnataka</td>\n",
       "      <td>7</td>\n",
       "      <td>AK Chaudhary</td>\n",
       "      <td>Nitin Menon</td>\n",
       "    </tr>\n",
       "    <tr>\n",
       "      <th>57</th>\n",
       "      <td>2017_58</td>\n",
       "      <td>2017</td>\n",
       "      <td>Bangalore</td>\n",
       "      <td>19-05-2017</td>\n",
       "      <td>KKR</td>\n",
       "      <td>MI</td>\n",
       "      <td>MI</td>\n",
       "      <td>field</td>\n",
       "      <td>normal</td>\n",
       "      <td>0</td>\n",
       "      <td>MI</td>\n",
       "      <td>0</td>\n",
       "      <td>6</td>\n",
       "      <td>Karn Sharma</td>\n",
       "      <td>254.0</td>\n",
       "      <td>M.Chinnaswamy Stadium Bengaluru, Karnataka</td>\n",
       "      <td>7</td>\n",
       "      <td>NJ Llong</td>\n",
       "      <td>Nitin Menon</td>\n",
       "    </tr>\n",
       "    <tr>\n",
       "      <th>58</th>\n",
       "      <td>2017_59</td>\n",
       "      <td>2017</td>\n",
       "      <td>Hyderabad</td>\n",
       "      <td>21-05-2017</td>\n",
       "      <td>MI</td>\n",
       "      <td>RPS</td>\n",
       "      <td>MI</td>\n",
       "      <td>bat</td>\n",
       "      <td>normal</td>\n",
       "      <td>0</td>\n",
       "      <td>MI</td>\n",
       "      <td>1</td>\n",
       "      <td>0</td>\n",
       "      <td>Krunal Pandya</td>\n",
       "      <td>582.0</td>\n",
       "      <td>Rajiv Gandhi International Stadium, Hyderabad</td>\n",
       "      <td>4</td>\n",
       "      <td>NJ Llong</td>\n",
       "      <td>S Ravi</td>\n",
       "    </tr>\n",
       "  </tbody>\n",
       "</table>\n",
       "</div>"
      ],
      "text/plain": [
       "   match_id  season       city        date team1_id team2_id toss_winner  \\\n",
       "54  2017_55    2017      Delhi  14-05-2017      RCB       DD         RCB   \n",
       "55  2017_56    2017     Mumbai  16-05-2017      RPS       MI          MI   \n",
       "56  2017_57    2017  Bangalore  17-05-2017      SRH      KKR         KKR   \n",
       "57  2017_58    2017  Bangalore  19-05-2017      KKR       MI          MI   \n",
       "58  2017_59    2017  Hyderabad  21-05-2017       MI      RPS          MI   \n",
       "\n",
       "   toss_decision  result  dl_applied winner  win_by_runs  win_by_wickets  \\\n",
       "54           bat  normal           0    RCB           10               0   \n",
       "55         field  normal           0    RPS           20               0   \n",
       "56         field  normal           1    KKR            0               7   \n",
       "57         field  normal           0     MI            0               6   \n",
       "58           bat  normal           0     MI            1               0   \n",
       "\n",
       "        player_of_match  player_of_match_id  \\\n",
       "54        Harshal Patel               456.0   \n",
       "55    Washington Sunder               631.0   \n",
       "56  Nathan Coulter-Nile               484.0   \n",
       "57          Karn Sharma               254.0   \n",
       "58        Krunal Pandya               582.0   \n",
       "\n",
       "                                            venue  venue_id       umpire1  \\\n",
       "54                Feroz Shah Kotla Stadium, Delhi         2     CK Nandan   \n",
       "55          Wankhede Stadium, Mumbai, Maharashtra         1        S Ravi   \n",
       "56     M.Chinnaswamy Stadium Bengaluru, Karnataka         7  AK Chaudhary   \n",
       "57     M.Chinnaswamy Stadium Bengaluru, Karnataka         7      NJ Llong   \n",
       "58  Rajiv Gandhi International Stadium, Hyderabad         4      NJ Llong   \n",
       "\n",
       "          umpire2  \n",
       "54  C Shamshuddin  \n",
       "55  C Shamshuddin  \n",
       "56    Nitin Menon  \n",
       "57    Nitin Menon  \n",
       "58         S Ravi  "
      ]
     },
     "execution_count": 82,
     "metadata": {},
     "output_type": "execute_result"
    }
   ],
   "source": [
    "ipl2_final.tail()"
   ]
  },
  {
   "cell_type": "code",
   "execution_count": 83,
   "metadata": {},
   "outputs": [
    {
     "name": "stdout",
     "output_type": "stream",
     "text": [
      "Index(['match_id', 'season', 'city', 'date', 'team1_id', 'team2_id',\n",
      "       'toss_winner', 'toss_decision', 'result', 'dl_applied', 'winner',\n",
      "       'win_by_runs', 'win_by_wickets', 'player_of_match',\n",
      "       'player_of_match_id', 'venue', 'venue_id', 'umpire1', 'umpire2'],\n",
      "      dtype='object')\n"
     ]
    }
   ],
   "source": [
    "print(ipl2_final.columns)"
   ]
  },
  {
   "cell_type": "code",
   "execution_count": 87,
   "metadata": {},
   "outputs": [
    {
     "name": "stdout",
     "output_type": "stream",
     "text": [
      "match_id               object\n",
      "season                  int64\n",
      "city                   object\n",
      "date                   object\n",
      "team1_id               object\n",
      "team2_id               object\n",
      "toss_winner            object\n",
      "toss_decision          object\n",
      "result                 object\n",
      "dl_applied              int64\n",
      "winner                 object\n",
      "win_by_runs             int64\n",
      "win_by_wickets          int64\n",
      "player_of_match        object\n",
      "player_of_match_id    float64\n",
      "venue                  object\n",
      "venue_id                int64\n",
      "umpire1                object\n",
      "umpire2                object\n",
      "dtype: object\n"
     ]
    }
   ],
   "source": [
    "print(ipl2_final.dtypes)"
   ]
  },
  {
   "cell_type": "code",
   "execution_count": null,
   "metadata": {},
   "outputs": [],
   "source": []
  },
  {
   "cell_type": "code",
   "execution_count": null,
   "metadata": {},
   "outputs": [],
   "source": []
  },
  {
   "cell_type": "code",
   "execution_count": null,
   "metadata": {},
   "outputs": [],
   "source": []
  },
  {
   "cell_type": "code",
   "execution_count": null,
   "metadata": {},
   "outputs": [],
   "source": []
  },
  {
   "cell_type": "code",
   "execution_count": 77,
   "metadata": {},
   "outputs": [
    {
     "data": {
      "text/plain": [
       "'C:\\\\Users\\\\Praveen\\\\Desktop\\\\INSOFE\\\\Python\\\\PythonDatasets'"
      ]
     },
     "execution_count": 77,
     "metadata": {},
     "output_type": "execute_result"
    }
   ],
   "source": [
    "os.getcwd()"
   ]
  },
  {
   "cell_type": "code",
   "execution_count": null,
   "metadata": {},
   "outputs": [],
   "source": []
  },
  {
   "cell_type": "code",
   "execution_count": null,
   "metadata": {},
   "outputs": [],
   "source": []
  },
  {
   "cell_type": "code",
   "execution_count": null,
   "metadata": {},
   "outputs": [],
   "source": []
  },
  {
   "cell_type": "code",
   "execution_count": null,
   "metadata": {},
   "outputs": [],
   "source": []
  },
  {
   "cell_type": "code",
   "execution_count": null,
   "metadata": {},
   "outputs": [],
   "source": []
  },
  {
   "cell_type": "code",
   "execution_count": null,
   "metadata": {},
   "outputs": [],
   "source": []
  },
  {
   "cell_type": "code",
   "execution_count": null,
   "metadata": {},
   "outputs": [],
   "source": []
  },
  {
   "cell_type": "code",
   "execution_count": null,
   "metadata": {},
   "outputs": [],
   "source": []
  },
  {
   "cell_type": "code",
   "execution_count": null,
   "metadata": {},
   "outputs": [],
   "source": []
  },
  {
   "cell_type": "code",
   "execution_count": null,
   "metadata": {},
   "outputs": [],
   "source": []
  },
  {
   "cell_type": "code",
   "execution_count": null,
   "metadata": {},
   "outputs": [],
   "source": []
  },
  {
   "cell_type": "code",
   "execution_count": null,
   "metadata": {},
   "outputs": [],
   "source": []
  },
  {
   "cell_type": "code",
   "execution_count": null,
   "metadata": {},
   "outputs": [],
   "source": []
  },
  {
   "cell_type": "code",
   "execution_count": null,
   "metadata": {},
   "outputs": [],
   "source": []
  },
  {
   "cell_type": "code",
   "execution_count": null,
   "metadata": {},
   "outputs": [],
   "source": []
  }
 ],
 "metadata": {
  "kernelspec": {
   "display_name": "Python 3",
   "language": "python",
   "name": "python3"
  },
  "language_info": {
   "codemirror_mode": {
    "name": "ipython",
    "version": 3
   },
   "file_extension": ".py",
   "mimetype": "text/x-python",
   "name": "python",
   "nbconvert_exporter": "python",
   "pygments_lexer": "ipython3",
   "version": "3.7.0"
  }
 },
 "nbformat": 4,
 "nbformat_minor": 2
}
